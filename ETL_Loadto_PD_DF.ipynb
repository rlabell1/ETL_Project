{
 "cells": [
  {
   "cell_type": "code",
   "execution_count": 1,
   "metadata": {},
   "outputs": [],
   "source": [
    "import pymongo\n",
    "import pandas as pd\n",
    "from pymongo import MongoClient"
   ]
  },
  {
   "cell_type": "code",
   "execution_count": 3,
   "metadata": {},
   "outputs": [],
   "source": [
    "client = MongoClient()\n",
    "db = client.Reviews\n",
    "collection = db.Joker_2019"
   ]
  },
  {
   "cell_type": "code",
   "execution_count": 6,
   "metadata": {},
   "outputs": [
    {
     "data": {
      "text/html": [
       "<div>\n",
       "<style scoped>\n",
       "    .dataframe tbody tr th:only-of-type {\n",
       "        vertical-align: middle;\n",
       "    }\n",
       "\n",
       "    .dataframe tbody tr th {\n",
       "        vertical-align: top;\n",
       "    }\n",
       "\n",
       "    .dataframe thead th {\n",
       "        text-align: right;\n",
       "    }\n",
       "</style>\n",
       "<table border=\"1\" class=\"dataframe\">\n",
       "  <thead>\n",
       "    <tr style=\"text-align: right;\">\n",
       "      <th></th>\n",
       "      <th>_id</th>\n",
       "      <th>index</th>\n",
       "      <th>review</th>\n",
       "      <th>polarity</th>\n",
       "      <th>subjectivity</th>\n",
       "    </tr>\n",
       "  </thead>\n",
       "  <tbody>\n",
       "    <tr>\n",
       "      <th>0</th>\n",
       "      <td>5dd02d2a386edbeca7f18819</td>\n",
       "      <td>1</td>\n",
       "      <td>Excellent Performance</td>\n",
       "      <td>1.000000</td>\n",
       "      <td>1.000000</td>\n",
       "    </tr>\n",
       "    <tr>\n",
       "      <th>1</th>\n",
       "      <td>5dd02d2a386edbeca7f1881a</td>\n",
       "      <td>2</td>\n",
       "      <td>Joaquin should be in Oscar contention; a diffe...</td>\n",
       "      <td>0.091486</td>\n",
       "      <td>0.523611</td>\n",
       "    </tr>\n",
       "    <tr>\n",
       "      <th>2</th>\n",
       "      <td>5dd02d2a386edbeca7f1881b</td>\n",
       "      <td>3</td>\n",
       "      <td>Uh. I have many, many words, but I don't have ...</td>\n",
       "      <td>0.214103</td>\n",
       "      <td>0.464103</td>\n",
       "    </tr>\n",
       "    <tr>\n",
       "      <th>3</th>\n",
       "      <td>5dd02d2a386edbeca7f1881c</td>\n",
       "      <td>4</td>\n",
       "      <td>A different look at the Joker from a sometimes...</td>\n",
       "      <td>0.205556</td>\n",
       "      <td>0.736111</td>\n",
       "    </tr>\n",
       "    <tr>\n",
       "      <th>4</th>\n",
       "      <td>5dd02d2a386edbeca7f1881d</td>\n",
       "      <td>5</td>\n",
       "      <td>Had a “killing joke” vibe that I dug. The best...</td>\n",
       "      <td>0.550000</td>\n",
       "      <td>0.650000</td>\n",
       "    </tr>\n",
       "  </tbody>\n",
       "</table>\n",
       "</div>"
      ],
      "text/plain": [
       "                        _id  index  \\\n",
       "0  5dd02d2a386edbeca7f18819      1   \n",
       "1  5dd02d2a386edbeca7f1881a      2   \n",
       "2  5dd02d2a386edbeca7f1881b      3   \n",
       "3  5dd02d2a386edbeca7f1881c      4   \n",
       "4  5dd02d2a386edbeca7f1881d      5   \n",
       "\n",
       "                                              review  polarity  subjectivity  \n",
       "0                              Excellent Performance  1.000000      1.000000  \n",
       "1  Joaquin should be in Oscar contention; a diffe...  0.091486      0.523611  \n",
       "2  Uh. I have many, many words, but I don't have ...  0.214103      0.464103  \n",
       "3  A different look at the Joker from a sometimes...  0.205556      0.736111  \n",
       "4  Had a “killing joke” vibe that I dug. The best...  0.550000      0.650000  "
      ]
     },
     "execution_count": 6,
     "metadata": {},
     "output_type": "execute_result"
    }
   ],
   "source": [
    "data = pd.DataFrame(list(collection.find()))\n",
    "data.head()"
   ]
  },
  {
   "cell_type": "code",
   "execution_count": 4,
   "metadata": {},
   "outputs": [
    {
     "ename": "SyntaxError",
     "evalue": "invalid syntax (<ipython-input-4-52c5da833be5>, line 1)",
     "output_type": "error",
     "traceback": [
      "\u001b[0;36m  File \u001b[0;32m\"<ipython-input-4-52c5da833be5>\"\u001b[0;36m, line \u001b[0;32m1\u001b[0m\n\u001b[0;31m    df = pd.DataFrame.from_records(db.<Reviews>.<Joker_2019>.find())\u001b[0m\n\u001b[0m                                      ^\u001b[0m\n\u001b[0;31mSyntaxError\u001b[0m\u001b[0;31m:\u001b[0m invalid syntax\n"
     ]
    }
   ],
   "source": []
  },
  {
   "cell_type": "code",
   "execution_count": null,
   "metadata": {},
   "outputs": [],
   "source": []
  }
 ],
 "metadata": {
  "kernelspec": {
   "display_name": "Python 3",
   "language": "python",
   "name": "python3"
  },
  "language_info": {
   "codemirror_mode": {
    "name": "ipython",
    "version": 3
   },
   "file_extension": ".py",
   "mimetype": "text/x-python",
   "name": "python",
   "nbconvert_exporter": "python",
   "pygments_lexer": "ipython3",
   "version": "3.7.3"
  }
 },
 "nbformat": 4,
 "nbformat_minor": 4
}
