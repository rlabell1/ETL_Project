{
 "cells": [
  {
   "cell_type": "code",
   "execution_count": 2,
   "metadata": {},
   "outputs": [],
   "source": [
    "import requests\n",
    "import bs4\n",
    "import urllib.parse\n",
    "import pymongo\n",
    "import pandas as pd\n",
    "from textblob import TextBlob"
   ]
  },
  {
   "cell_type": "code",
   "execution_count": 3,
   "metadata": {},
   "outputs": [
    {
     "name": "stdout",
     "output_type": "stream",
     "text": [
      "joker_2019\n"
     ]
    }
   ],
   "source": [
    "# the%20joker%20movie%20reviews\n",
    "movie = urllib.parse.quote('joker_2019')\n",
    "print(movie)"
   ]
  },
  {
   "cell_type": "code",
   "execution_count": 4,
   "metadata": {},
   "outputs": [
    {
     "name": "stdout",
     "output_type": "stream",
     "text": [
      "https://www.rottentomatoes.com/m/joker_2019/reviews?type=user\n"
     ]
    }
   ],
   "source": [
    "url = f\"https://www.rottentomatoes.com/m/{movie}/reviews?type=user\"\n",
    "print(url)"
   ]
  },
  {
   "cell_type": "code",
   "execution_count": 5,
   "metadata": {},
   "outputs": [
    {
     "name": "stdout",
     "output_type": "stream",
     "text": [
      "200\n"
     ]
    }
   ],
   "source": [
    "response = requests.get(url)\n",
    "print(response.status_code)"
   ]
  },
  {
   "cell_type": "code",
   "execution_count": 6,
   "metadata": {},
   "outputs": [],
   "source": [
    "soup = bs4.BeautifulSoup(response.text, 'html.parser')\n",
    "#print(soup)"
   ]
  },
  {
   "cell_type": "code",
   "execution_count": 7,
   "metadata": {},
   "outputs": [
    {
     "name": "stdout",
     "output_type": "stream",
     "text": [
      "[<p class=\"audience-reviews__review js-review-text clamp clamp-8 js-clamp\">Todd Phillips has done a really good job of creating a back story to one of the most infamous DC characters and injected it with modern tones and emotion. I love movies like this that make you really relate to a dark character that is hanging by a thread, then, snaps. Some of the scenes do seem a little over-indulgent but it ends with a HUGE climactic BANG!</p>, <p class=\"audience-reviews__review js-review-text clamp clamp-8 js-clamp\">Even if you're not a fan of movies based on comic book characters see this film. Joaquin Phoenix gives one of the most Oscar-worthy performances of the year.</p>, <p class=\"audience-reviews__review js-review-text clamp clamp-8 js-clamp\">Very negative movie.</p>, <p class=\"audience-reviews__review js-review-text clamp clamp-8 js-clamp\">Good storyline and plot</p>, <p class=\"audience-reviews__review js-review-text clamp clamp-8 js-clamp\">Surprised and not surprised Joaquin Phoenix delivered a new level of performance in the last quarter of the film.</p>, <p class=\"audience-reviews__review js-review-text clamp clamp-8 js-clamp\">It was good but a bit draggy at times</p>, <p class=\"audience-reviews__review js-review-text clamp clamp-8 js-clamp\">great acting! twisted plot with a real mesaage.</p>, <p class=\"audience-reviews__review js-review-text clamp clamp-8 js-clamp\">THE YEAR'S BEST MOVIE, PERIOD!!!!!!!!!!!!!!!!!💥💥💥💥💥💥💥💥💥💥💥💥💥💥💥</p>, <p class=\"audience-reviews__review js-review-text clamp clamp-8 js-clamp\">Gran película no siempre necesitamos películas con efectos espectaculares para niños o echa para china , gran actuación gran guion , recomendado para todos y si para todos incluso para niños</p>, <p class=\"audience-reviews__review js-review-text clamp clamp-8 js-clamp\">Did not live up to the hype.</p>]\n"
     ]
    }
   ],
   "source": [
    "reviews = soup.find_all('p', class_ = 'audience-reviews__review js-review-text clamp clamp-8 js-clamp')\n",
    "print(reviews)"
   ]
  },
  {
   "cell_type": "code",
   "execution_count": 8,
   "metadata": {},
   "outputs": [
    {
     "name": "stdout",
     "output_type": "stream",
     "text": [
      "Todd Phillips has done a really good job of creating a back story to one of the most infamous DC characters and injected it with modern tones and emotion. I love movies like this that make you really relate to a dark character that is hanging by a thread, then, snaps. Some of the scenes do seem a little over-indulgent but it ends with a HUGE climactic BANG!\n",
      "Even if you're not a fan of movies based on comic book characters see this film. Joaquin Phoenix gives one of the most Oscar-worthy performances of the year.\n",
      "Very negative movie.\n",
      "Good storyline and plot\n",
      "Surprised and not surprised Joaquin Phoenix delivered a new level of performance in the last quarter of the film.\n",
      "It was good but a bit draggy at times\n",
      "great acting! twisted plot with a real mesaage.\n",
      "THE YEAR'S BEST MOVIE, PERIOD!!!!!!!!!!!!!!!!!💥💥💥💥💥💥💥💥💥💥💥💥💥💥💥\n",
      "Gran película no siempre necesitamos películas con efectos espectaculares para niños o echa para china , gran actuación gran guion , recomendado para todos y si para todos incluso para niños\n",
      "Did not live up to the hype.\n"
     ]
    }
   ],
   "source": [
    "for h in reviews:\n",
    "    print(h.contents[0])"
   ]
  },
  {
   "cell_type": "code",
   "execution_count": null,
   "metadata": {},
   "outputs": [],
   "source": [
    "client = pymongo.MongoClient('mongodb://localhost:27017')\n",
    "db=client.Reviews\n",
    "col_reviews = db.Joker_2019\n",
    "col_index = db.Joker_2019\n",
    "reviews = soup.find_all('p', class_='audience-reviews__review js-review-text clamp clamp-8 js-clamp')\n",
    "#print(reviews)"
   ]
  },
  {
   "cell_type": "code",
   "execution_count": null,
   "metadata": {},
   "outputs": [],
   "source": [
    "index = 1\n",
    "for r in reviews:\n",
    "    new_r = {'index': index, 'review':r.contents[0]}\n",
    "    col_reviews.insert_one(new_r)\n",
    "    index = index + 1"
   ]
  },
  {
   "cell_type": "code",
   "execution_count": null,
   "metadata": {},
   "outputs": [],
   "source": [
    "!python -m textblob.download_corpora"
   ]
  },
  {
   "cell_type": "code",
   "execution_count": 46,
   "metadata": {},
   "outputs": [
    {
     "name": "stdout",
     "output_type": "stream",
     "text": [
      "Sentiment(polarity=1.0, subjectivity=1.0)\n",
      "Sentiment(polarity=0.0914862914862915, subjectivity=0.5236111111111111)\n",
      "Sentiment(polarity=0.21410256410256412, subjectivity=0.4641025641025641)\n",
      "Sentiment(polarity=0.20555555555555557, subjectivity=0.7361111111111112)\n",
      "Sentiment(polarity=0.55, subjectivity=0.65)\n",
      "Sentiment(polarity=-0.24107142857142858, subjectivity=0.5619047619047618)\n",
      "Sentiment(polarity=0.43163265306122456, subjectivity=0.5789115646258504)\n",
      "Sentiment(polarity=0.4, subjectivity=0.775)\n",
      "Sentiment(polarity=-0.05, subjectivity=0.1)\n",
      "Sentiment(polarity=0.8666666666666667, subjectivity=0.7666666666666666)\n"
     ]
    }
   ],
   "source": [
    "# for sentence in blob.sentences:\n",
    "for r in reviews:\n",
    "    blob = TextBlob(r.contents[0])\n",
    "    print(blob.sentiment)"
   ]
  },
  {
   "cell_type": "code",
   "execution_count": null,
   "metadata": {},
   "outputs": [],
   "source": [
    "#### EVERYTHING BELOW IS OPTIONAL #####"
   ]
  },
  {
   "cell_type": "code",
   "execution_count": null,
   "metadata": {},
   "outputs": [],
   "source": [
    "from splinter import Browser"
   ]
  },
  {
   "cell_type": "code",
   "execution_count": null,
   "metadata": {},
   "outputs": [],
   "source": [
    "executable_path={'executable_path': '/usr/local/bin/chromedriver'}\n",
    "browser = Browser('chrome', **executable_path, headless=False)\n",
    "browser.visit('https://www.rottentomatoes.com/m/joker_2019/reviews?type=user')"
   ]
  },
  {
   "cell_type": "code",
   "execution_count": 9,
   "metadata": {},
   "outputs": [],
   "source": [
    "def foo():\n",
    "    i = 0\n",
    "    index = 1\n",
    "    while i < 10:\n",
    "        i = i + 1\n",
    "        try:\n",
    "            browser.html\n",
    "            soup = bs4.BeautifulSoup(response.text, 'html.parser')\n",
    "            reviews = soup.find_all('p', class_ = 'audience-reviews__review js-review-text clamp clamp-8 js-clamp')\n",
    "            browser.find_by_xpath('//*[@id=\"content\"]/div/div/nav[3]/button[2]/span').click()\n",
    "            for r in reviews:\n",
    "                blob = TextBlob(r.contents[0])\n",
    "                new_r = {'index': index, 'review':r.contents[0], \n",
    "                         'polarity': blob.sentiment[0], 'subjectivity': blob.sentiment[1]}\n",
    "                col_reviews.insert_one(new_r)\n",
    "                index = index + 1\n",
    "                print(new_r)\n",
    "        except: \n",
    "            return\n",
    "        \n",
    "foo()"
   ]
  },
  {
   "cell_type": "code",
   "execution_count": 37,
   "metadata": {},
   "outputs": [
    {
     "name": "stdout",
     "output_type": "stream",
     "text": [
      "Collecting textblob\n",
      "\u001b[?25l  Downloading https://files.pythonhosted.org/packages/60/f0/1d9bfcc8ee6b83472ec571406bd0dd51c0e6330ff1a51b2d29861d389e85/textblob-0.15.3-py2.py3-none-any.whl (636kB)\n",
      "\u001b[K     |████████████████████████████████| 645kB 1.2MB/s eta 0:00:01\n",
      "\u001b[?25hRequirement already satisfied, skipping upgrade: nltk>=3.1 in /anaconda3/lib/python3.7/site-packages (from textblob) (3.4.4)\n",
      "Requirement already satisfied, skipping upgrade: six in /anaconda3/lib/python3.7/site-packages (from nltk>=3.1->textblob) (1.12.0)\n",
      "Installing collected packages: textblob\n",
      "Successfully installed textblob-0.15.3\n",
      "Note: you may need to restart the kernel to use updated packages.\n"
     ]
    }
   ],
   "source": [
    "pip install -U textblob"
   ]
  },
  {
   "cell_type": "code",
   "execution_count": 35,
   "metadata": {},
   "outputs": [
    {
     "ename": "NameError",
     "evalue": "name 'TextBlob' is not defined",
     "output_type": "error",
     "traceback": [
      "\u001b[0;31m---------------------------------------------------------------------------\u001b[0m",
      "\u001b[0;31mNameError\u001b[0m                                 Traceback (most recent call last)",
      "\u001b[0;32m<ipython-input-35-9677087e4855>\u001b[0m in \u001b[0;36m<module>\u001b[0;34m\u001b[0m\n\u001b[1;32m      1\u001b[0m \u001b[0;31m# for sentence in blob.sentences:\u001b[0m\u001b[0;34m\u001b[0m\u001b[0;34m\u001b[0m\u001b[0;34m\u001b[0m\u001b[0m\n\u001b[1;32m      2\u001b[0m \u001b[0;32mfor\u001b[0m \u001b[0mr\u001b[0m \u001b[0;32min\u001b[0m \u001b[0mreviews\u001b[0m\u001b[0;34m:\u001b[0m\u001b[0;34m\u001b[0m\u001b[0;34m\u001b[0m\u001b[0m\n\u001b[0;32m----> 3\u001b[0;31m     \u001b[0mblob\u001b[0m \u001b[0;34m=\u001b[0m \u001b[0mTextBlob\u001b[0m\u001b[0;34m(\u001b[0m\u001b[0mr\u001b[0m\u001b[0;34m.\u001b[0m\u001b[0mcontents\u001b[0m\u001b[0;34m[\u001b[0m\u001b[0;36m0\u001b[0m\u001b[0;34m]\u001b[0m\u001b[0;34m)\u001b[0m\u001b[0;34m\u001b[0m\u001b[0;34m\u001b[0m\u001b[0m\n\u001b[0m\u001b[1;32m      4\u001b[0m     \u001b[0mprint\u001b[0m\u001b[0;34m(\u001b[0m\u001b[0mblob\u001b[0m\u001b[0;34m.\u001b[0m\u001b[0msentiment\u001b[0m\u001b[0;34m)\u001b[0m\u001b[0;34m\u001b[0m\u001b[0;34m\u001b[0m\u001b[0m\n",
      "\u001b[0;31mNameError\u001b[0m: name 'TextBlob' is not defined"
     ]
    }
   ],
   "source": []
  },
  {
   "cell_type": "code",
   "execution_count": null,
   "metadata": {},
   "outputs": [],
   "source": []
  }
 ],
 "metadata": {
  "kernelspec": {
   "display_name": "Python 3",
   "language": "python",
   "name": "python3"
  },
  "language_info": {
   "codemirror_mode": {
    "name": "ipython",
    "version": 3
   },
   "file_extension": ".py",
   "mimetype": "text/x-python",
   "name": "python",
   "nbconvert_exporter": "python",
   "pygments_lexer": "ipython3",
   "version": "3.7.3"
  }
 },
 "nbformat": 4,
 "nbformat_minor": 4
}
